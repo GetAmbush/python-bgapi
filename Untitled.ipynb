{
 "cells": [
  {
   "cell_type": "code",
   "execution_count": 1,
   "metadata": {},
   "outputs": [],
   "source": [
    "import bgapi\n",
    "import serial\n",
    "import time\n",
    "from pprint import pprint"
   ]
  },
  {
   "cell_type": "code",
   "execution_count": 2,
   "metadata": {},
   "outputs": [],
   "source": [
    "PORT = 'COM7'"
   ]
  },
  {
   "cell_type": "code",
   "execution_count": 3,
   "metadata": {},
   "outputs": [],
   "source": [
    "class BGAPISerial:\n",
    "    def __init__(self, port):\n",
    "        self.serial = serial.Serial(port=port, baudrate=9600, timeout=1.0)\n",
    "        self._buffer = b''\n",
    "    \n",
    "    def write(self, data):\n",
    "        self.serial.write(data)\n",
    "    \n",
    "    def read(self):\n",
    "        self._read_serial()\n",
    "        pkt, offset = bgapi.from_binary(self._buffer)\n",
    "        self._buffer = self._buffer[offset:]\n",
    "        return pkt\n",
    "    \n",
    "    def read_all(self):\n",
    "        packets = []\n",
    "        packet = self.read()\n",
    "        while packet is not None:\n",
    "            packets.append(packet)\n",
    "            packet = self.read()\n",
    "        return packets\n",
    "        \n",
    "    def _read_serial(self):\n",
    "        for _ in range(10):\n",
    "            new_data = self.serial.read(max(1, self.serial.inWaiting()))\n",
    "            self._buffer += new_data\n",
    "            if len(new_data) == 0:\n",
    "                break\n",
    "            print(new_data)"
   ]
  },
  {
   "cell_type": "code",
   "execution_count": 4,
   "metadata": {},
   "outputs": [],
   "source": [
    "s = BGAPISerial(PORT)"
   ]
  },
  {
   "cell_type": "markdown",
   "metadata": {},
   "source": [
    "# Reset"
   ]
  },
  {
   "cell_type": "code",
   "execution_count": 5,
   "metadata": {},
   "outputs": [
    {
     "name": "stdout",
     "output_type": "stream",
     "text": [
      "b'\\xa0'\n",
      "b'\\x12\\x01\\x00\\x02\\x00\\x08\\x00'\n",
      "b'\\x01'\n",
      "b'\\x00\\xc2\\x00\\x00\\x00\\x05\\x01\\x01\\x00\\x99\\x07\\x9cx'\n",
      "[{'min_payload_len': 18,\n",
      "  'msg_class': 1,\n",
      "  'msg_id': 0,\n",
      "  'msg_type': 160,\n",
      "  'payload': {'bootloader': 17104896,\n",
      "              'build': 194,\n",
      "              'hash': 2023491481,\n",
      "              'hw': 1,\n",
      "              'major': 2,\n",
      "              'minor': 8,\n",
      "              'patch': 1}}]\n"
     ]
    }
   ],
   "source": [
    "s.write(bgapi.system.cmd.reset(0))\n",
    "packets = s.read_all()\n",
    "pprint(packets)"
   ]
  },
  {
   "cell_type": "markdown",
   "metadata": {},
   "source": [
    "# Connect"
   ]
  },
  {
   "cell_type": "code",
   "execution_count": null,
   "metadata": {},
   "outputs": [],
   "source": [
    "s.write(bgapi.le_gap.cmd.connect('B0:91:22:69:FF:A3', 0x00, 0x01)) # Sensor 10"
   ]
  },
  {
   "cell_type": "code",
   "execution_count": null,
   "metadata": {},
   "outputs": [],
   "source": [
    "packets = s.read_all()\n",
    "pprint(packets)"
   ]
  },
  {
   "cell_type": "markdown",
   "metadata": {},
   "source": [
    "# Connection Parameters"
   ]
  },
  {
   "cell_type": "code",
   "execution_count": null,
   "metadata": {},
   "outputs": [],
   "source": [
    "connection_handle = 1"
   ]
  },
  {
   "cell_type": "code",
   "execution_count": null,
   "metadata": {},
   "outputs": [],
   "source": [
    "s.write(bgapi.le_connection.cmd.set_parameters(connection_handle, 6, 6, 6, 300))"
   ]
  },
  {
   "cell_type": "code",
   "execution_count": null,
   "metadata": {},
   "outputs": [],
   "source": [
    "packets = s.read_all()\n",
    "pprint(packets)"
   ]
  },
  {
   "cell_type": "markdown",
   "metadata": {},
   "source": [
    "# Enable Notifications"
   ]
  },
  {
   "cell_type": "code",
   "execution_count": null,
   "metadata": {},
   "outputs": [],
   "source": [
    "connection_handle = 1"
   ]
  },
  {
   "cell_type": "code",
   "execution_count": null,
   "metadata": {},
   "outputs": [],
   "source": [
    "s.write(bgapi.gatt.cmd.set_characteristic_notification(connection_handle, 0x0035, 0x01))"
   ]
  },
  {
   "cell_type": "code",
   "execution_count": null,
   "metadata": {},
   "outputs": [],
   "source": [
    "while True:\n",
    "    packet = s.read()\n",
    "    pprint(packet)\n",
    "    print('---', flush=True)"
   ]
  },
  {
   "cell_type": "code",
   "execution_count": null,
   "metadata": {},
   "outputs": [],
   "source": [
    "from struct import unpack\n",
    "unpack('<50H', packet['payload']['value'])"
   ]
  },
  {
   "cell_type": "code",
   "execution_count": null,
   "metadata": {},
   "outputs": [],
   "source": []
  }
 ],
 "metadata": {
  "kernelspec": {
   "display_name": "Python 3",
   "language": "python",
   "name": "python3"
  },
  "language_info": {
   "codemirror_mode": {
    "name": "ipython",
    "version": 3
   },
   "file_extension": ".py",
   "mimetype": "text/x-python",
   "name": "python",
   "nbconvert_exporter": "python",
   "pygments_lexer": "ipython3",
   "version": "3.6.5"
  }
 },
 "nbformat": 4,
 "nbformat_minor": 2
}
